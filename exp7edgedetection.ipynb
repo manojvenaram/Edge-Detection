{
 "cells": [
  {
   "cell_type": "code",
   "execution_count": 1,
   "metadata": {},
   "outputs": [],
   "source": [
    "import cv2\n",
    "import matplotlib.pyplot as plt\n",
    "image = cv2.imread(\"windows.jpg\")\n"
   ]
  },
  {
   "cell_type": "code",
   "execution_count": 3,
   "metadata": {},
   "outputs": [],
   "source": [
    "# load the image\n",
    "# convert to gray scale\n",
    "grayImage = cv2.cvtColor(image,cv2.COLOR_BGR2GRAY)\n",
    "cv2.imshow(\"OriginalImage\",image)\n",
    "cv2.imshow(\"GrayscaleImage\",grayImage)\n"
   ]
  },
  {
   "cell_type": "code",
   "execution_count": 4,
   "metadata": {},
   "outputs": [
    {
     "ename": "NameError",
     "evalue": "name 'gray' is not defined",
     "output_type": "error",
     "traceback": [
      "\u001b[1;31m---------------------------------------------------------------------------\u001b[0m",
      "\u001b[1;31mNameError\u001b[0m                                 Traceback (most recent call last)",
      "\u001b[1;32mc:\\Users\\manoj\\OneDrive\\Documents\\dipt\\Edge-Detection\\exp7edgedetection.ipynb Cell 3'\u001b[0m in \u001b[0;36m<cell line: 2>\u001b[1;34m()\u001b[0m\n\u001b[0;32m      <a href='vscode-notebook-cell:/c%3A/Users/manoj/OneDrive/Documents/dipt/Edge-Detection/exp7edgedetection.ipynb#ch0000002?line=0'>1</a>\u001b[0m \u001b[39m# remove noise\u001b[39;00m\n\u001b[1;32m----> <a href='vscode-notebook-cell:/c%3A/Users/manoj/OneDrive/Documents/dipt/Edge-Detection/exp7edgedetection.ipynb#ch0000002?line=1'>2</a>\u001b[0m img \u001b[39m=\u001b[39m cv2\u001b[39m.\u001b[39mGaussianBlur(gray,(\u001b[39m3\u001b[39m,\u001b[39m3\u001b[39m),\u001b[39m0\u001b[39m)\n",
      "\u001b[1;31mNameError\u001b[0m: name 'gray' is not defined"
     ]
    },
    {
     "ename": "",
     "evalue": "",
     "output_type": "error",
     "traceback": [
      "\u001b[1;31mThe Kernel crashed while executing code in the the current cell or a previous cell. Please review the code in the cell(s) to identify a possible cause of the failure. Click <a href='https://aka.ms/vscodeJupyterKernelCrash'>here</a> for more info. View Jupyter <a href='command:jupyter.viewOutput'>log</a> for further details."
     ]
    }
   ],
   "source": [
    "# remove noise\n",
    "img = cv2.GaussianBlur(grayImage,(3,3),0)"
   ]
  },
  {
   "cell_type": "code",
   "execution_count": null,
   "metadata": {},
   "outputs": [],
   "source": [
    "# Sobel edge detector\n",
    "# convolve with proper kernels\n",
    "sobelx = cv2.Sobel(smoothImage,cv2.CV_64F,1,0,ksize=5)\n",
    "sobely = cv2.Sobel(smoothImage,cv2.CV_64F,0,1,ksize=5)\n",
    "sobelxy = cv2.Sobel(smoothImage,cv2.CV_64F,1,1,ksize=5)"
   ]
  },
  {
   "cell_type": "code",
   "execution_count": null,
   "metadata": {},
   "outputs": [],
   "source": [
    "cannyEdges = cv2.Canny(smoothImage,120,150)\n",
    "plt.figure(1)\n",
    "plt.subplot(2,2,1)\n",
    "plt.imshow(smoothImage,cmap = 'gray')\n",
    "cv2.imshow(\"sobelx\",sobelx)\n",
    "cv2.imshow(\"sobely\",sobely)\n",
    "cv2.imshow(\"sobelxy\",sobelxy)\n",
    "cv2.imshow(\"Laplacian\",laplacian)\n",
    "cv2.imshow(\"Canny Edges\",cannyEdges)\n",
    "plt.title(\"Original\")\n",
    "plt.xticks([])\n",
    "plt.yticks([])\n",
    "plt.show()"
   ]
  },
  {
   "cell_type": "code",
   "execution_count": null,
   "metadata": {},
   "outputs": [],
   "source": []
  },
  {
   "cell_type": "code",
   "execution_count": null,
   "metadata": {},
   "outputs": [],
   "source": [
    "\n",
    "\n",
    "\n",
    "\n",
    "\n"
   ]
  }
 ],
 "metadata": {
  "interpreter": {
   "hash": "e6d76bc2e7597a8a7976a466c51a7fc256113d636b6a517f6ccb542a6b47291a"
  },
  "kernelspec": {
   "display_name": "Python 3.9.11 ('img')",
   "language": "python",
   "name": "python3"
  },
  "language_info": {
   "codemirror_mode": {
    "name": "ipython",
    "version": 3
   },
   "file_extension": ".py",
   "mimetype": "text/x-python",
   "name": "python",
   "nbconvert_exporter": "python",
   "pygments_lexer": "ipython3",
   "version": "3.9.11"
  }
 },
 "nbformat": 4,
 "nbformat_minor": 4
}
